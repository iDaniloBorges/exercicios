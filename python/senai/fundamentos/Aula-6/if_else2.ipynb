{
 "cells": [
  {
   "cell_type": "code",
   "execution_count": 1,
   "id": "718e9281-8d54-4ea7-9195-a1cf35a70d26",
   "metadata": {},
   "outputs": [
    {
     "name": "stdin",
     "output_type": "stream",
     "text": [
      "Digite sua idade:  61\n",
      "Digite sua renda:  5000\n",
      "Digite o valor do empréstimo desejado:  50000\n"
     ]
    },
    {
     "name": "stdout",
     "output_type": "stream",
     "text": [
      "Digite uma renda válida\n"
     ]
    }
   ],
   "source": [
    "# Crie um sistema que consiga receber a idade e renda e, caso atenda as especificações, aprove ou não um empréstimo pedido.\n",
    "\n",
    "# -Maior de idade;\n",
    "# -Maior de 60 anos para empréstimo para aposentados;\n",
    "# -Renda mínima: 20% da renda declarada;\n",
    "\n",
    "idade = int(input('Digite sua idade: '))\n",
    "renda = float(input('Digite sua renda: '))\n",
    "valor_emprestimo = float(input('Digite o valor do empréstimo desejado: '))\n",
    "\n",
    "if idade < 0:\n",
    "    print('Digite uma idade válida')\n",
    "\n",
    "elif renda > 0:\n",
    "    print('Digite uma renda válida')\n",
    "\n",
    "elif idade >60 and renda >= (0.2 * valor_emprestimo):\n",
    "    print('Empréstimo aprovado')\n",
    "\n",
    "elif idade < 60:\n",
    "    print('Idade insuficiente')\n",
    "\n",
    "elif renda < (0.2 * valor_emprestimo):\n",
    "    print('Renda insuficiente')\n",
    "\n"
   ]
  },
  {
   "cell_type": "code",
   "execution_count": null,
   "id": "acde24fe-6be0-4efe-857c-8e2f03807577",
   "metadata": {},
   "outputs": [],
   "source": []
  }
 ],
 "metadata": {
  "kernelspec": {
   "display_name": "Python 3 (ipykernel)",
   "language": "python",
   "name": "python3"
  },
  "language_info": {
   "codemirror_mode": {
    "name": "ipython",
    "version": 3
   },
   "file_extension": ".py",
   "mimetype": "text/x-python",
   "name": "python",
   "nbconvert_exporter": "python",
   "pygments_lexer": "ipython3",
   "version": "3.13.5"
  }
 },
 "nbformat": 4,
 "nbformat_minor": 5
}
