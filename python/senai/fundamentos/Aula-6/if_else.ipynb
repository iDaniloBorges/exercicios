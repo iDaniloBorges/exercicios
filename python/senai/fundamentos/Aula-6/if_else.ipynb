{
 "cells": [
  {
   "cell_type": "code",
   "execution_count": 19,
   "id": "3d04adfc-2c7b-4915-a1e5-0b5ed705d2ad",
   "metadata": {},
   "outputs": [
    {
     "name": "stdin",
     "output_type": "stream",
     "text": [
      "Digite a idade:  99\n"
     ]
    },
    {
     "name": "stdout",
     "output_type": "stream",
     "text": [
      "Idoso\n"
     ]
    }
   ],
   "source": [
    "idade = int(input('Digite a idade: '))\n",
    "\n",
    "if idade <0:\n",
    "    print('Digite um valor válido')\n",
    "elif idade <= 12:\n",
    "    print('Criança')\n",
    "elif idade <18:\n",
    "    print('Adolescente')\n",
    "elif idade <60:\n",
    "    print('Adulto')\n",
    "elif idade >= 60 and idade <= 120:\n",
    "    print('Idoso')"
   ]
  },
  {
   "cell_type": "code",
   "execution_count": null,
   "id": "c555f445-7831-44d2-b367-48b9144c5cb3",
   "metadata": {},
   "outputs": [],
   "source": []
  }
 ],
 "metadata": {
  "kernelspec": {
   "display_name": "Python 3 (ipykernel)",
   "language": "python",
   "name": "python3"
  },
  "language_info": {
   "codemirror_mode": {
    "name": "ipython",
    "version": 3
   },
   "file_extension": ".py",
   "mimetype": "text/x-python",
   "name": "python",
   "nbconvert_exporter": "python",
   "pygments_lexer": "ipython3",
   "version": "3.13.5"
  }
 },
 "nbformat": 4,
 "nbformat_minor": 5
}
