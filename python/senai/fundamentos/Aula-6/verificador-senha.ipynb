{
 "cells": [
  {
   "cell_type": "code",
   "execution_count": 19,
   "id": "f9788d4b-83b2-4855-a5f4-ff6a36503320",
   "metadata": {},
   "outputs": [
    {
     "ename": "IndentationError",
     "evalue": "expected an indented block after 'if' statement on line 10 (3734662880.py, line 14)",
     "output_type": "error",
     "traceback": [
      "\u001b[1;36m  Cell \u001b[1;32mIn[19], line 14\u001b[1;36m\u001b[0m\n\u001b[1;33m    def hasLowerString(senha):\u001b[0m\n\u001b[1;37m                              ^\u001b[0m\n\u001b[1;31mIndentationError\u001b[0m\u001b[1;31m:\u001b[0m expected an indented block after 'if' statement on line 10\n"
     ]
    }
   ],
   "source": [
    "# Atividade 3: Validador de Senha -  Utilize variáveis globais.\n",
    "# Crie uma função validarSenha que verifica se uma senha tem pelo menos 8\n",
    "# caracteres, contém pelo menos um número e uma letra maiúscula.\n",
    "\n",
    "import re\n",
    "\n",
    "senha = input(\"Digite sua senha: \")\n",
    "\n",
    "def hasNumber(senha):\n",
    "    if re.search(\"[0-9]\", senha):\n",
    "      \n",
    "\n",
    "\n",
    "def hasLowerString(senha):\n",
    "    if re.search(\"[a-z]\", senha):\n",
    "       \n",
    "\n",
    "\n",
    "def hasUpperString(senha):\n",
    "    if re.search(\"[A-Z]\", senha):\n",
    "     \n",
    "\n",
    "def hasQtf(senha):\n",
    "    if len(senha) >= 8:\n",
    "    \n",
    "\n",
    "\n",
    "def validarSenha(senha):\n",
    "    if hasNumber(senha) and hasLowerString(senha) and hasUpperString(senha) and hasQtf(senha):\n",
    "        print('Atende aos padrões')\n",
    "    else:\n",
    "        print('Não atende aos padrões')\n",
    "\n",
    "\n",
    "validarSenha(senha)\n"
   ]
  },
  {
   "cell_type": "code",
   "execution_count": null,
   "id": "1fb972c1-a50a-4639-bf01-64bb7fc4e999",
   "metadata": {},
   "outputs": [],
   "source": []
  },
  {
   "cell_type": "code",
   "execution_count": null,
   "id": "56cd0b52-e77b-4bdf-9fed-b9165f10e929",
   "metadata": {},
   "outputs": [],
   "source": []
  }
 ],
 "metadata": {
  "kernelspec": {
   "display_name": "Python 3 (ipykernel)",
   "language": "python",
   "name": "python3"
  },
  "language_info": {
   "codemirror_mode": {
    "name": "ipython",
    "version": 3
   },
   "file_extension": ".py",
   "mimetype": "text/x-python",
   "name": "python",
   "nbconvert_exporter": "python",
   "pygments_lexer": "ipython3",
   "version": "3.13.5"
  }
 },
 "nbformat": 4,
 "nbformat_minor": 5
}
