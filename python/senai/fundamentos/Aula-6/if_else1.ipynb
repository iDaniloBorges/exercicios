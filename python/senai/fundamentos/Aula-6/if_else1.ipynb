{
 "cells": [
  {
   "cell_type": "code",
   "execution_count": 11,
   "id": "bffa6c8d-d044-438e-8939-a61c6f5d9ccc",
   "metadata": {},
   "outputs": [
    {
     "name": "stdin",
     "output_type": "stream",
     "text": [
      "Digite sua idade:  21\n",
      "Digite sua renda:  2000\n",
      "Digite o valor do empréstimo desejado:  208\n"
     ]
    },
    {
     "name": "stdout",
     "output_type": "stream",
     "text": [
      "Empréstimo comum\n"
     ]
    }
   ],
   "source": [
    "# Crie um sistema que consiga receber a idade e renda e, caso atenda as especificações, aprove ou não um empréstimo pedido.\n",
    "\n",
    "# -Maior de idade;\n",
    "# -Maior de 60 anos para empréstimo para aposentados;\n",
    "# -Renda mínima: 20% da renda declarada;\n",
    "\n",
    "idade = int(input('Digite sua idade: '))\n",
    "renda = float(input('Digite sua renda: '))\n",
    "valor_emprestimo = float(input('Digite o valor do empréstimo desejado: '))\n",
    "\n",
    "condicao = 0.2 * valor_emprestimo\n",
    "\n",
    "if idade < 0:\n",
    "    print('Digite uma idade válida')\n",
    "\n",
    "elif renda < 0:\n",
    "    print('Digite uma renda válida')\n",
    "\n",
    "if idade < 18:\n",
    "    print('Idade insuficiente')\n",
    "\n",
    "elif idade >= 18 and idade <60 and renda >= condicao:\n",
    "    print('Categoria do mpréstimo: Comum')\n",
    "    print('Situação: APROVADO')\n",
    "\n",
    "elif idade >= 60 and renda >= condicao:\n",
    "      print('Categoria do mpréstimo: Comum')\n",
    "    print('Situação: APROVADO')\n",
    "\n",
    "elif renda < condicao:\n",
    "    print('Renda insuficiente')\n",
    "\n"
   ]
  },
  {
   "cell_type": "code",
   "execution_count": null,
   "id": "ae284ce6-efd1-423b-870c-0a05fa79f094",
   "metadata": {},
   "outputs": [],
   "source": []
  },
  {
   "cell_type": "code",
   "execution_count": null,
   "id": "0871f3a5-dcf3-4ff0-a099-cd0e555980eb",
   "metadata": {},
   "outputs": [],
   "source": []
  }
 ],
 "metadata": {
  "kernelspec": {
   "display_name": "Python 3 (ipykernel)",
   "language": "python",
   "name": "python3"
  },
  "language_info": {
   "codemirror_mode": {
    "name": "ipython",
    "version": 3
   },
   "file_extension": ".py",
   "mimetype": "text/x-python",
   "name": "python",
   "nbconvert_exporter": "python",
   "pygments_lexer": "ipython3",
   "version": "3.13.5"
  }
 },
 "nbformat": 4,
 "nbformat_minor": 5
}
