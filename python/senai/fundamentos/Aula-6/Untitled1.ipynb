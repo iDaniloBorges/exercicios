{
 "cells": [
  {
   "cell_type": "code",
   "execution_count": 51,
   "id": "b1baf8d6-7a9b-4369-b8c1-6e8370eb824f",
   "metadata": {},
   "outputs": [
    {
     "name": "stdin",
     "output_type": "stream",
     "text": [
      "Digite o valor do produto:  100\n",
      "Escolha o tipo de cliente: 1- Bronze; 2- Prata; 3- Ouro; 4- Outro 4\n",
      "Escolha o valor do desconto:  10\n"
     ]
    },
    {
     "name": "stdout",
     "output_type": "stream",
     "text": [
      "Atendente: Gerente/Diretor\n",
      "Empréstimo: Em análise\n",
      "Percentual de desconto: 10.0%\n",
      "Valor final desejado R$90.00\n"
     ]
    }
   ],
   "source": [
    "# 2. Política de Descontos Comerciais (Vendas)\n",
    "\n",
    "# **Enunciado:**\n",
    "\n",
    "# Uma empresa define limites de desconto por perfil e categoria do cliente.\n",
    "\n",
    "# - Limites do **vendedor**: Bronze 5%, Prata 10%, Ouro 15%.\n",
    "# - Limite do **gerente**: até 25% para qualquer categoria.\n",
    "    \n",
    "#     Se o desconto solicitado ultrapassar o limite do usuário logado:\n",
    "    \n",
    "# - até 25% → **“Escalar para gerente/diretoria”**\n",
    "# - acima de 25% → **“Reprovado”**\n",
    "    \n",
    "#     Calcule também o **valor final** do pedido.\n",
    "\n",
    "valor_pedido = float(input('Digite o valor do produto: '))\n",
    "tipo_cliente = int(input('Escolha o tipo de cliente: 1- Bronze; 2- Prata; 3- Ouro; 4- Outro'))\n",
    "desconto_cliente = float(input('Escolha o valor do desconto: '))\n",
    "\n",
    "desconto_desejado = (desconto_cliente / valor_pedido) * 100\n",
    "\n",
    "bronze = (5/valor_pedido) * 100\n",
    "prata = (10/valor_pedido) * 100\n",
    "ouro = (15/valor_pedido) * 100\n",
    "outro = (25/valor_pedido) * 100\n",
    "\n",
    "if not valor_pedido or not tipo_cliente or tipo_cliente <= 0 or tipo_cliente > 4 or desconto_cliente < 0:\n",
    "    print('Digite valores válidos')\n",
    "\n",
    "elif tipo_cliente == 1 and desconto_desejado <= bronze:\n",
    "    print('Atendente: Vendedor')\n",
    "    print('Empréstimo: Aprovado')\n",
    "    print(f'Percentual de desconto: {desconto_desejado}%')\n",
    "    print(f'Valor final R${(valor_pedido - desconto_cliente):.2f}')\n",
    "\n",
    "elif tipo_cliente == 1 and desconto_desejado > bronze:\n",
    "    print('Atendente: Gerente')\n",
    "    print('Empréstimo: Em análise')\n",
    "    print(f'Percentual de desconto desejado: {desconto_desejado}%')\n",
    "    print(f'Valor final desejado R${(valor_pedido - desconto_cliente):.2f}')\n",
    "\n",
    "elif tipo_cliente == 2 and desconto_desejado <= prata:\n",
    "    print('Atendente: Vendedor')\n",
    "    print('Empréstimo: Aprovado')\n",
    "    print(f'Valor final R${(valor_pedido - desconto_cliente):.2f}')\n",
    "    \n",
    "elif tipo_cliente == 2 and desconto_desejado > prata:\n",
    "    print('Atendente: Gerente')\n",
    "    print('Empréstimo: Em análise')\n",
    "    print(f'Percentual de desconto desejado: {desconto_desejado}%')\n",
    "    print(f'Valor final desejado R${(valor_pedido - desconto_cliente):.2f}')\n",
    "\n",
    "\n",
    "elif tipo_cliente == 3 and desconto_desejado <= ouro:\n",
    "    print('Atendente: Vendedor')\n",
    "    print(f'Percentual de desconto: {desconto_desejado}%')\n",
    "    print('Empréstimo: Aprovado')\n",
    "    print(f'Valor final R${(valor_pedido - desconto_cliente):.2f}')\n",
    "    \n",
    "elif tipo_cliente == 3 and desconto_desejado > ouro:\n",
    "    print('Atendente: Gerente/Diretor')\n",
    "    print('Empréstimo: Em análise')\n",
    "    print(f'Percentual de desconto desejado: {desconto_desejado}%')\n",
    "    print(f'Valor final desejado R${(valor_pedido - desconto_cliente):.2f}')\n",
    "\n",
    "\n",
    "elif tipo_cliente == 4 and desconto_desejado > ouro and desconto_desejado <= outro:\n",
    "    print('Atendente: Gerente/Diretor')\n",
    "    print('Empréstimo: Pendente')\n",
    "    print(f'Percentual de desconto desejado: {desconto_desejado}%')\n",
    "    print(f'Valor final desejado R${(valor_pedido - desconto_cliente):.2f}')\n",
    "    \n",
    "elif tipo_cliente == 4 and desconto_desejado > outro:\n",
    "    print('Atendente: Gerente/Diretor')\n",
    "    print('Empréstimo: Reprovado')\n",
    "    print(f'Percentual de desconto: {desconto_desejado}%')\n",
    "    print(f'Valor final desejado R${(valor_pedido - desconto_cliente):.2f}')\n",
    "    \n",
    "elif tipo_cliente == 4 and desconto_desejado < outro:\n",
    "    print('Atendente: Gerente/Diretor')\n",
    "    print('Empréstimo: Em análise')\n",
    "    print(f'Percentual de desconto: {desconto_desejado}%')\n",
    "    print(f'Valor final desejado R${(valor_pedido - desconto_cliente):.2f}')"
   ]
  },
  {
   "cell_type": "code",
   "execution_count": null,
   "id": "c9787cd0-a93c-42ec-8fca-1273b6c69914",
   "metadata": {},
   "outputs": [],
   "source": []
  },
  {
   "cell_type": "code",
   "execution_count": 7,
   "id": "1c06c555-1325-4abe-b03d-19dfdd9d68f3",
   "metadata": {},
   "outputs": [
    {
     "data": {
      "text/plain": [
       "100"
      ]
     },
     "execution_count": 7,
     "metadata": {},
     "output_type": "execute_result"
    }
   ],
   "source": [
    "100\n",
    "\n"
   ]
  },
  {
   "cell_type": "code",
   "execution_count": null,
   "id": "48475357-30b0-4d9c-8f3c-13300fb72cce",
   "metadata": {},
   "outputs": [],
   "source": [
    "1"
   ]
  }
 ],
 "metadata": {
  "kernelspec": {
   "display_name": "Python 3 (ipykernel)",
   "language": "python",
   "name": "python3"
  },
  "language_info": {
   "codemirror_mode": {
    "name": "ipython",
    "version": 3
   },
   "file_extension": ".py",
   "mimetype": "text/x-python",
   "name": "python",
   "nbconvert_exporter": "python",
   "pygments_lexer": "ipython3",
   "version": "3.13.5"
  }
 },
 "nbformat": 4,
 "nbformat_minor": 5
}
